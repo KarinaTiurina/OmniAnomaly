{
 "cells": [
  {
   "cell_type": "markdown",
   "metadata": {},
   "source": [
    "This notebook is to parse loss and valid loss from the logs after the training"
   ]
  },
  {
   "cell_type": "code",
   "execution_count": 21,
   "metadata": {},
   "outputs": [
    {
     "name": "stdout",
     "output_type": "stream",
     "text": [
      "loss = [-5.1608, -31.5417, -36.9074, -38.8701, -40.75, -42.8851, -43.4624, -44.2987, -45.6068, -44.8194, -45.6524, -45.435, -49.1135, -51.4911, -53.3428, -54.5047, -55.7638, -55.9315, -56.7088, -57.3375, -58.0224, -58.5299, -59.0185, -59.4612, -59.898, -60.3111, -60.4999, -60.9318, -61.0546, -61.4918, -61.737, -62.1234]\n",
      "valid_loss = [-24.3553, -33.7453, -35.8002, -35.5403, -37.0584, -38.9363, -30.0488, -39.5165, -41.4681, -27.3194, -43.7875, -31.8721, -46.7523, -45.2219, -47.5312, -48.2603, -50.8375, -52.4807, -51.5379, -52.4492, -50.7333, -52.3032, -54.0866, -55.8346, -55.9521, -55.4872, -54.5419, -55.3687, -55.7232, -56.776, -57.9971, -57.2588]\n"
     ]
    }
   ],
   "source": [
    "import re\n",
    "import pandas as pd\n",
    "\n",
    "folder = 'result_SMD_1.2_GD'\n",
    "\n",
    "logs_file = f'{folder}/logs.txt'\n",
    "\n",
    "\n",
    "# Initialize empty lists to store the loss and valid loss values\n",
    "loss = []\n",
    "valid_loss = []\n",
    "\n",
    "# Define the regular expression pattern to match the lines of interest\n",
    "pattern = r\"\\[Epoch \\d+/\\d+, Step \\d+(, ETA [\\d\\w\\s:.]+)?\\] .*? loss: ([\\-\\d.]+) .*? valid loss: ([\\-\\d.]+)\"\n",
    "\n",
    "# Open the logs.txt file and read line by line\n",
    "with open(logs_file, 'rb') as file:\n",
    "    for line in file:\n",
    "        encoded = line.decode('utf-8', errors='ignore')\n",
    "        # Check if the line matches the pattern\n",
    "        match = re.search(pattern, encoded)\n",
    "        if match:\n",
    "            # Extract the loss and valid loss values\n",
    "            loss_value = float(match.group(2))\n",
    "            valid_loss_value = float(match.group(3))\n",
    "            # Append the values to the respective lists\n",
    "            loss.append(loss_value)\n",
    "            valid_loss.append(valid_loss_value)\n",
    "\n",
    "# Print the results\n",
    "print(\"loss =\", loss)\n",
    "print(\"valid_loss =\", valid_loss)\n",
    "\n",
    "loss_df = pd.DataFrame(loss, columns=[\"loss\"])\n",
    "valid_loss_df = pd.DataFrame(valid_loss, columns=[\"valid_loss\"])\n",
    "\n",
    "loss_df.to_csv(f'{folder}/training_loss.csv', index=False)\n",
    "valid_loss_df.to_csv(f'{folder}/training_valid_loss.csv', index=False)"
   ]
  }
 ],
 "metadata": {
  "kernelspec": {
   "display_name": "iml-10",
   "language": "python",
   "name": "python3"
  },
  "language_info": {
   "codemirror_mode": {
    "name": "ipython",
    "version": 3
   },
   "file_extension": ".py",
   "mimetype": "text/x-python",
   "name": "python",
   "nbconvert_exporter": "python",
   "pygments_lexer": "ipython3",
   "version": "3.10.13"
  }
 },
 "nbformat": 4,
 "nbformat_minor": 2
}
