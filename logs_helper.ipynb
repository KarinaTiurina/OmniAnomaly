{
 "cells": [
  {
   "cell_type": "markdown",
   "metadata": {},
   "source": [
    "This notebook is to parse loss and valid loss from the logs after the training"
   ]
  },
  {
   "cell_type": "code",
   "execution_count": 1,
   "metadata": {},
   "outputs": [
    {
     "name": "stdout",
     "output_type": "stream",
     "text": [
      "loss = [-22.6114, -54.8214, -65.9088, -73.2983, -78.9182, -83.5535, -87.3832, -90.761, -93.6462, -96.5456, -98.6701, -100.827, -102.83, -104.944, -106.313, -107.985, -109.283, -110.575, -111.925, -113.132, -114.095, -115.485, -116.424, -117.583, -118.499, -119.294, -119.83, -120.927, -121.588, -122.172, -123.007, -123.581, -124.08, -124.424, -125.583, -126.406, -126.66, -127.504, -127.856, -128.517, -128.561, -129.741, -129.721, -130.374, -131.061, -130.831, -131.648, -132.018, -132.604, -132.757, -133.376, -133.626, -134.402, -133.811, -134.57, -135.705, -135.646, -136.022, -135.656, -136.827, -137.075, -137.031, -137.659, -137.53, -137.819, -138.344, -139.146, -139.16, -138.615, -139.527, -139.201, -140.215, -139.503, -140.725, -140.997, -141.0, -141.002, -141.481, -141.66, -141.824, -142.301]\n",
      "valid_loss = [-48.2673, -62.4346, -70.2004, -77.9154, -81.7257, -85.9675, -89.7344, -93.0021, -95.7122, -98.3914, -100.455, -102.68, -103.948, -105.614, -106.702, -108.51, -110.307, -111.855, -112.472, -113.992, -114.869, -115.628, -117.613, -117.826, -119.041, -119.964, -120.834, -121.908, -122.336, -123.447, -123.699, -124.498, -125.875, -126.367, -126.718, -127.306, -127.481, -128.401, -128.716, -128.284, -129.459, -129.86, -130.828, -131.504, -131.547, -132.21, -133.044, -133.095, -133.158, -133.703, -134.075, -134.318, -135.037, -135.688, -135.94, -135.913, -136.485, -137.401, -138.105, -137.89, -137.958, -138.423, -138.759, -139.133, -138.953, -139.575, -139.087, -139.996, -140.404, -140.588, -141.213, -141.496, -141.917, -141.717, -142.207, -141.552, -142.432, -142.807, -143.133, -143.313, -143.543]\n"
     ]
    }
   ],
   "source": [
    "import re\n",
    "import pandas as pd\n",
    "\n",
    "folder = 'result'\n",
    "\n",
    "logs_file = f'{folder}/logs.txt'\n",
    "\n",
    "\n",
    "# Initialize empty lists to store the loss and valid loss values\n",
    "loss = []\n",
    "valid_loss = []\n",
    "\n",
    "# Define the regular expression pattern to match the lines of interest\n",
    "pattern = r\"\\[Epoch \\d+/\\d+, Step \\d+(, ETA [\\d\\w\\s:.]+)?\\] .*? loss: ([\\-\\d.]+) .*? valid loss: ([\\-\\d.]+)\"\n",
    "\n",
    "# Open the logs.txt file and read line by line\n",
    "with open(logs_file, 'rb') as file:\n",
    "    for line in file:\n",
    "        encoded = line.decode('utf-8', errors='ignore')\n",
    "        # Check if the line matches the pattern\n",
    "        match = re.search(pattern, encoded)\n",
    "        if match:\n",
    "            # Extract the loss and valid loss values\n",
    "            loss_value = float(match.group(2))\n",
    "            valid_loss_value = float(match.group(3))\n",
    "            # Append the values to the respective lists\n",
    "            loss.append(loss_value)\n",
    "            valid_loss.append(valid_loss_value)\n",
    "\n",
    "# Print the results\n",
    "print(\"loss =\", loss)\n",
    "print(\"valid_loss =\", valid_loss)\n",
    "\n",
    "loss_df = pd.DataFrame(loss, columns=[\"loss\"])\n",
    "valid_loss_df = pd.DataFrame(valid_loss, columns=[\"valid_loss\"])\n",
    "\n",
    "loss_df.to_csv(f'{folder}/training_loss.csv', index=False)\n",
    "valid_loss_df.to_csv(f'{folder}/training_valid_loss.csv', index=False)"
   ]
  }
 ],
 "metadata": {
  "kernelspec": {
   "display_name": "iml-10",
   "language": "python",
   "name": "python3"
  },
  "language_info": {
   "codemirror_mode": {
    "name": "ipython",
    "version": 3
   },
   "file_extension": ".py",
   "mimetype": "text/x-python",
   "name": "python",
   "nbconvert_exporter": "python",
   "pygments_lexer": "ipython3",
   "version": "3.10.13"
  }
 },
 "nbformat": 4,
 "nbformat_minor": 2
}
