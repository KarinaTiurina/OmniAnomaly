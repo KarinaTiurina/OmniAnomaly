{
 "cells": [
  {
   "cell_type": "markdown",
   "metadata": {},
   "source": [
    "This notebook is to parse loss and valid loss from the logs after the training"
   ]
  },
  {
   "cell_type": "code",
   "execution_count": 1,
   "metadata": {},
   "outputs": [
    {
     "name": "stdout",
     "output_type": "stream",
     "text": [
      "loss = [-22.4936, -56.3017, -64.7317, -63.7718, -70.7865, -56.1494, -89.3489, -96.1415, -99.969, -103.115, -105.779, -108.128, -109.916, -111.71, -113.479, -114.842, -116.436, -117.741, -117.706, -118.551, -120.348, -121.371, -122.344, -123.123, -123.721, -124.632, -125.378, -126.227, -127.74, -127.526, -128.35, -129.41, -130.169, -130.184, -130.599, -131.638, -131.351, -132.277, -133.068, -133.115, -133.935, -134.308, -134.009, -133.812, -134.776, -135.615, -136.006, -135.856, -136.131, -136.051, -136.762, -136.703, -137.457, -137.58, -137.379, -138.333, -138.707, -138.557, -137.932, -139.402, -139.032, -139.595, -139.975, -139.984, -140.194, -140.58, -140.77, -141.285, -140.766, -141.44, -141.734, -142.147, -141.99, -142.657, -142.504, -142.365, -143.765, -143.08, -142.767, -143.301, -143.641]\n",
      "valid_loss = [-46.8948, -66.4983, -49.2068, -70.4129, -88.1752, -83.9673, -94.9522, -97.6658, -101.53, -106.653, -108.488, -111.005, -110.786, -108.022, -112.261, -114.783, -118.94, -121.007, -126.452, -125.624, -126.6, -114.365, -121.873, -120.938, -124.197, -130.559, -119.429, -126.877, -132.812, -134.586, -133.124, -134.78, -136.365, -129.069, -132.937, -135.454, -135.403, -133.829, -133.583, -136.901, -131.658, -134.169, -128.008, -129.514, -137.049, -135.034, -133.376, -129.349, -135.423, -137.16, -137.194, -133.82, -135.85, -133.422, -136.413, -137.694, -140.201, -143.547, -141.382, -139.183, -139.451, -138.964, -142.659, -139.721, -141.891, -143.51, -137.009, -139.596, -142.726, -139.124, -143.601, -143.598, -144.791, -145.427, -145.503, -147.187, -142.09, -137.503, -139.77, -142.016, -143.924]\n"
     ]
    }
   ],
   "source": [
    "import re\n",
    "import pandas as pd\n",
    "\n",
    "folder = 'result'\n",
    "\n",
    "logs_file = f'{folder}/logs.txt'\n",
    "\n",
    "\n",
    "# Initialize empty lists to store the loss and valid loss values\n",
    "loss = []\n",
    "valid_loss = []\n",
    "\n",
    "# Define the regular expression pattern to match the lines of interest\n",
    "pattern = r\"\\[Epoch \\d+/\\d+, Step \\d+(, ETA [\\d\\w\\s:.]+)?\\] .*? loss: ([\\-\\d.]+) .*? valid loss: ([\\-\\d.]+)\"\n",
    "\n",
    "# Open the logs.txt file and read line by line\n",
    "with open(logs_file, 'rb') as file:\n",
    "    for line in file:\n",
    "        encoded = line.decode('utf-8', errors='ignore')\n",
    "        # Check if the line matches the pattern\n",
    "        match = re.search(pattern, encoded)\n",
    "        if match:\n",
    "            # Extract the loss and valid loss values\n",
    "            loss_value = float(match.group(2))\n",
    "            valid_loss_value = float(match.group(3))\n",
    "            # Append the values to the respective lists\n",
    "            loss.append(loss_value)\n",
    "            valid_loss.append(valid_loss_value)\n",
    "\n",
    "# Print the results\n",
    "print(\"loss =\", loss)\n",
    "print(\"valid_loss =\", valid_loss)\n",
    "\n",
    "loss_df = pd.DataFrame(loss, columns=[\"loss\"])\n",
    "valid_loss_df = pd.DataFrame(valid_loss, columns=[\"valid_loss\"])\n",
    "\n",
    "loss_df.to_csv(f'{folder}/training_loss.csv', index=False)\n",
    "valid_loss_df.to_csv(f'{folder}/training_valid_loss.csv', index=False)"
   ]
  }
 ],
 "metadata": {
  "kernelspec": {
   "display_name": "iml-10",
   "language": "python",
   "name": "python3"
  },
  "language_info": {
   "codemirror_mode": {
    "name": "ipython",
    "version": 3
   },
   "file_extension": ".py",
   "mimetype": "text/x-python",
   "name": "python",
   "nbconvert_exporter": "python",
   "pygments_lexer": "ipython3",
   "version": "3.10.13"
  }
 },
 "nbformat": 4,
 "nbformat_minor": 2
}
